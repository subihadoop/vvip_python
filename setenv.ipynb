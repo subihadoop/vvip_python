{
 "cells": [
  {
   "cell_type": "code",
   "execution_count": 3,
   "metadata": {},
   "outputs": [],
   "source": [
    "import os\n",
    "import locale"
   ]
  },
  {
   "cell_type": "code",
   "execution_count": 6,
   "metadata": {},
   "outputs": [],
   "source": [
    "os.environ[\"VARTEXT\"]=\"'/' FILE=/usr/apps/dn_os/odsaas/controt/b2_ddt.dot\"\n",
    "os.environ[\" LANG\"]=\"ISO 8859-1 Western European\"\n",
    "\n",
    "os.environ[\"python\"]=\"/usr/tocat/bin/python2.7\"\n",
    "os.environ[\"ODBCINI\"]=\"/opt/teradata/ctient/15.10/odbc_64/odbc.ini\"\n",
    "os.environ[\"LD_LIBRARY_PATH\"]=os.getenv( 'ODBCINI' ) + \"/server/bin\""
   ]
  },
  {
   "cell_type": "code",
   "execution_count": null,
   "metadata": {},
   "outputs": [],
   "source": []
  }
 ],
 "metadata": {
  "kernelspec": {
   "display_name": "Python 3",
   "language": "python",
   "name": "python3"
  },
  "language_info": {
   "codemirror_mode": {
    "name": "ipython",
    "version": 3
   },
   "file_extension": ".py",
   "mimetype": "text/x-python",
   "name": "python",
   "nbconvert_exporter": "python",
   "pygments_lexer": "ipython3",
   "version": "3.7.3"
  }
 },
 "nbformat": 4,
 "nbformat_minor": 2
}
