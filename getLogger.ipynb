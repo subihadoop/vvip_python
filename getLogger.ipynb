{
 "cells": [
  {
   "cell_type": "code",
   "execution_count": 44,
   "metadata": {},
   "outputs": [],
   "source": [
    "#try:\n",
    "#import set_env\n",
    "import subprocess\n",
    "from datetime import datetime\n",
    "from subprocess import Popen, PIPE\n",
    "import datetime\n",
    "import sys\n",
    "from sys import argv\n",
    "import re\n",
    "import os\n",
    "from stat import *\n",
    "#import String\n",
    "import string\n",
    "#from string import strip\n",
    "#import Vars\n",
    "import logging\n",
    "import time\n",
    "import traceback\n",
    "import stat\n",
    "#except ImportError, e:\n",
    "    #raise ImportError (str(e))"
   ]
  },
  {
   "cell_type": "code",
   "execution_count": 47,
   "metadata": {},
   "outputs": [
    {
     "name": "stdout",
     "output_type": "stream",
     "text": [
      "21:24:5519\n",
      "hello21:24:5519.log\n"
     ]
    }
   ],
   "source": [
    "def get_logger(script_name):\n",
    "    \n",
    "    try:\n",
    "        logger = logging.getLogger (script_name)\n",
    "        #print(logger)\n",
    "        today = datetime.datetime.today().strftime(\"%X\"\"%d\")\n",
    "        \n",
    "        handler = logging.StreamHandler()  # create StreamHandler ard set level to DEBLS\n",
    "        handler.setLevel(logging.DEBUG)\n",
    "        formatter = logging.Formatter('%(asctime)s - %(name)s - %(levelname)s - %(message)s')\n",
    "        handler.setFormatter(formatter)\n",
    "        logger.addHandler(handler)\n",
    "        LOG_FILENAME = script_name + today +'.log'\n",
    "        print(LOG_FILENAME)\n",
    "    except Exception as exception:\n",
    "        message= \"LOG_FILENANE creation failed -\"+ str(exception)+str(traceback.format_exc())\n",
    "        print(message)\n",
    "        sys.stdout.flush()\n",
    "        logger.error(message)\n",
    "        sys.exit(1)\n",
    "        #logging.basicConfig(format= '(asctime) - (name).(funcName) -(levelname)-(message)')\n",
    "        filename=(LOG_FILENAME, level-logging.INFO)\n",
    "        print(filename)\n",
    "        os.chmod (LOG_FILENAME, stat.S_IRUSR |stat.S_IWUSR | stat.S_IRGRP | stat.s_IWGRP|stat.S_IROTH)\n",
    "        return logger\n",
    "if __name__ == \"__main__\" :\n",
    "    get_logger('hello')\n",
    "        "
   ]
  },
  {
   "cell_type": "code",
   "execution_count": 46,
   "metadata": {},
   "outputs": [
    {
     "name": "stdout",
     "output_type": "stream",
     "text": [
      "21:24:1319\n",
      "/home/subir21:24:1319hello.log\n"
     ]
    }
   ],
   "source": [
    "get_logger('hello')"
   ]
  },
  {
   "cell_type": "code",
   "execution_count": null,
   "metadata": {},
   "outputs": [],
   "source": []
  },
  {
   "cell_type": "code",
   "execution_count": null,
   "metadata": {},
   "outputs": [],
   "source": []
  }
 ],
 "metadata": {
  "kernelspec": {
   "display_name": "Python 3",
   "language": "python",
   "name": "python3"
  },
  "language_info": {
   "codemirror_mode": {
    "name": "ipython",
    "version": 3
   },
   "file_extension": ".py",
   "mimetype": "text/x-python",
   "name": "python",
   "nbconvert_exporter": "python",
   "pygments_lexer": "ipython3",
   "version": "3.7.3"
  }
 },
 "nbformat": 4,
 "nbformat_minor": 2
}
