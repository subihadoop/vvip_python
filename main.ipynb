{
 "cells": [
  {
   "cell_type": "code",
   "execution_count": null,
   "metadata": {},
   "outputs": [],
   "source": [
    "# variables\n",
    "from db_credentials import datawarehouse_db_config, sqlserver_db_config, mysql_db_config, fbd_db_config\n",
    "from sql_queries import fbd_queries, sqlserver_queries, mysql_queries\n",
    "from variables import *# methods\n",
    "from etl import etl_process\n",
    "def main():\n",
    "  print('starting etl')\n",
    "\t\n",
    "  # establish connection for target database (sql-server)\n",
    "  target_cnx = pyodbc.connect(**datawarehouse_db_config)\n",
    "\t\n",
    "  # loop through credentials\n",
    "\n",
    "  # mysql\n",
    "  for config in mysql_db_config: \n",
    "    try:\n",
    "      print(\"loading db: \" + config['database'])\n",
    "      etl_process(mysql_queries, target_cnx, config, 'mysql')\n",
    "    except Exception as error:\n",
    "      print(\"etl for {} has error\".format(config['database']))\n",
    "      print('error message: {}'.format(error))\n",
    "      continue\n",
    "\t\n",
    "  # sql-server\n",
    "  for config in sqlserver_db_config: \n",
    "    try:\n",
    "      print(\"loading db: \" + config['database'])\n",
    "      etl_process(sqlserver_queries, target_cnx, config, 'sqlserver')\n",
    "    except Exception as error:\n",
    "      print(\"etl for {} has error\".format(config['database']))\n",
    "      print('error message: {}'.format(error))\n",
    "      continue\n",
    "\n",
    "  # firebird\n",
    "  for config in fbd_db_config: \n",
    "    try:\n",
    "      print(\"loading db: \" + config['database'])\n",
    "      etl_process(fbd_queries, target_cnx, config, 'firebird')\n",
    "    except Exception as error:\n",
    "      print(\"etl for {} has error\".format(config['database']))\n",
    "      print('error message: {}'.format(error))\n",
    "      continue\n",
    "\t\n",
    "  target_cnx.close()\n",
    "\n",
    "if __name__ == \"__main__\":\n",
    "  main()"
   ]
  }
 ],
 "metadata": {
  "kernelspec": {
   "display_name": "Python 3",
   "language": "python",
   "name": "python3"
  },
  "language_info": {
   "codemirror_mode": {
    "name": "ipython",
    "version": 3
   },
   "file_extension": ".py",
   "mimetype": "text/x-python",
   "name": "python",
   "nbconvert_exporter": "python",
   "pygments_lexer": "ipython3",
   "version": "3.7.3"
  }
 },
 "nbformat": 4,
 "nbformat_minor": 2
}
