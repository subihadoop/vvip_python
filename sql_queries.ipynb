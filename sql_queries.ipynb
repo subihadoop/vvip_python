{
 "cells": [
  {
   "cell_type": "code",
   "execution_count": null,
   "metadata": {},
   "outputs": [],
   "source": [
    "sqlserver_extract = ('''\n",
    "  SELECT sqlserver_column_1, sqlserver_column_2, sqlserver_column_3\n",
    "  FROM sqlserver_table\n",
    "''')\n",
    "\n",
    "sqlserver_insert = ('''\n",
    "  INSERT INTO table (column_1, column_2, column_3)\n",
    "  VALUES (?, ?, ?)  \n",
    "''')\n",
    "\n",
    "mysql_extract = ('''\n",
    "  SELECT mysql_column_1, mysql_column_2, mysql_column_3\n",
    "  FROM mysql_table\n",
    "''')\n",
    "\n",
    "mysql_insert = ('''\n",
    "  INSERT INTO table (column_1, column_2, column_3)\n",
    "  VALUES (?, ?, ?)  \n",
    "''')\n",
    "\n",
    "# exporting queries\n",
    "class SqlQuery:\n",
    "  def __init__(self, extract_query, load_query):\n",
    "    self.extract_query = extract_query\n",
    "    self.load_query = load_query\n",
    "    \n",
    "# create instances for SqlQuery class\n",
    "fbd_query = SqlQuery(firebird_extract, firebird_insert)\n",
    "fbd_query_2 = SqlQuery(firebird_extract_2, firebird_insert_2)\n",
    "sqlserver_query = SqlQuery(sqlserver_extract, sqlserver_insert)\n",
    "mysql_query = SqlQuery(mysql_extract, mysql_insert)\n",
    "\n",
    "# store as list for iteration\n",
    "fbd_queries = [fbdquery, fbd_query_2]\n",
    "sqlserver_queries = [sqlserver_query]\n",
    "mysql_queries = [mysql_query]"
   ]
  }
 ],
 "metadata": {
  "kernelspec": {
   "display_name": "Python 3",
   "language": "python",
   "name": "python3"
  },
  "language_info": {
   "codemirror_mode": {
    "name": "ipython",
    "version": 3
   },
   "file_extension": ".py",
   "mimetype": "text/x-python",
   "name": "python",
   "nbconvert_exporter": "python",
   "pygments_lexer": "ipython3",
   "version": "3.7.3"
  }
 },
 "nbformat": 4,
 "nbformat_minor": 2
}
