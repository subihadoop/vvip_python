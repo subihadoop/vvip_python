{
 "cells": [
  {
   "cell_type": "code",
   "execution_count": 9,
   "metadata": {},
   "outputs": [],
   "source": [
    "    from sys import argv\n",
    "    from subprocess import Popen\n",
    "    #import set_env\n",
    "    import glob\n",
    "    import socket\n",
    "    import re\n",
    "    import os \n",
    "    #import StringIO\n",
    "    import string\n",
    "    import sys\n",
    "    import smtplib\n",
    "    import logging\n",
    "    #import traceback\n",
    "    import datetime\n",
    "    #import Vars\n",
    "    import stat"
   ]
  },
  {
   "cell_type": "code",
   "execution_count": 12,
   "metadata": {},
   "outputs": [],
   "source": [
    "def env_details():\n",
    "    try:\n",
    "        host_name=socket.gethostbyaddr(socket.gethostname())[0]\n",
    "        env=\"No environment found\"\n",
    "        if host_name == \"subi-datalake\":\n",
    "            env =\"DEV\"\n",
    "        else:\n",
    "            if host_name == - \"vxpip-pdvase01.Lmig.com\":\n",
    "                env =\"PROD\"\n",
    "            else:\n",
    "                print (\"Invaild host name process is teminating. \")\n",
    "                message=\"Detemining the environment \"+ str(env)\n",
    "                print(message)\n",
    "                sys.stdout.flush()\n",
    "                sys.exit(1)\n",
    "                return env\n",
    "    except Exception as exception:\n",
    "        message=\"ERROR: Invaitd host name process is terminating.\" \n",
    "        print (message)\n",
    "        sys.stdout.flush()\n",
    "        sys.exit(1)\n",
    "        return False\n",
    "    return env"
   ]
  },
  {
   "cell_type": "code",
   "execution_count": 13,
   "metadata": {},
   "outputs": [
    {
     "data": {
      "text/plain": [
       "'DEV'"
      ]
     },
     "execution_count": 13,
     "metadata": {},
     "output_type": "execute_result"
    }
   ],
   "source": [
    "env_details()"
   ]
  },
  {
   "cell_type": "code",
   "execution_count": null,
   "metadata": {
    "collapsed": true
   },
   "outputs": [],
   "source": []
  }
 ],
 "metadata": {
  "kernelspec": {
   "display_name": "Python 3",
   "language": "python",
   "name": "python3"
  },
  "language_info": {
   "codemirror_mode": {
    "name": "ipython",
    "version": 3
   },
   "file_extension": ".py",
   "mimetype": "text/x-python",
   "name": "python",
   "nbconvert_exporter": "python",
   "pygments_lexer": "ipython3",
   "version": "3.7.3"
  }
 },
 "nbformat": 4,
 "nbformat_minor": 2
}
