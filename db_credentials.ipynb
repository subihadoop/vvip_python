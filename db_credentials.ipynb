{
 "cells": [
  {
   "cell_type": "code",
   "execution_count": null,
   "metadata": {},
   "outputs": [],
   "source": [
    "from variables import datawarehouse_name\n",
    "\n",
    "# sql-server (target db, datawarehouse)\n",
    "datawarehouse_db_config = {\n",
    "  'Trusted_Connection': 'yes',\n",
    "  'driver': '{SQL Server}',\n",
    "  'server': 'datawarehouse_sql_server',\n",
    "  'database': '{}'.format(datawarehouse_name),\n",
    "  'user': 'your_db_username',\n",
    "  'password': 'your_db_password',\n",
    "  'autocommit': True,\n",
    "}\n",
    "\n",
    "# sql-server (source db)\n",
    "sqlserver_db_config = [\n",
    "  {\n",
    "    'Trusted_Connection': 'yes',\n",
    "    'driver': '{SQL Server}',\n",
    "    'server': 'your_sql_server',\n",
    "    'database': 'db1',\n",
    "    'user': 'your_db_username',\n",
    "    'password': 'your_db_password',\n",
    "    'autocommit': True,\n",
    "  }\n",
    "]\n",
    "\n",
    "# mysql\n",
    "mysql_db_config = [\n",
    "  {\n",
    "    'user': 'your_user_1',\n",
    "    'password': 'your_password_1',\n",
    "    'host': 'db_connection_string_1',\n",
    "    'database': 'db_1',\n",
    "  },\n",
    "  {\n",
    "    'user': 'your_user_2',\n",
    "    'password': 'your_password_2',\n",
    "    'host': 'db_connection_string_2',\n",
    "    'database': 'db_2',\n",
    "  },\n",
    "]\n",
    "\n",
    "# firebird\n",
    "fdb_db_config = [\n",
    "  {\n",
    "    'dsn': \"/your/path/to/source.db\",\n",
    "    'user': \"your_username\",\n",
    "    'password': \"your_password\",\n",
    "  }\n",
    "]"
   ]
  }
 ],
 "metadata": {
  "kernelspec": {
   "display_name": "Python 3",
   "language": "python",
   "name": "python3"
  },
  "language_info": {
   "codemirror_mode": {
    "name": "ipython",
    "version": 3
   },
   "file_extension": ".py",
   "mimetype": "text/x-python",
   "name": "python",
   "nbconvert_exporter": "python",
   "pygments_lexer": "ipython3",
   "version": "3.7.3"
  }
 },
 "nbformat": 4,
 "nbformat_minor": 2
}
