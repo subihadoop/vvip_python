{
 "cells": [
  {
   "cell_type": "code",
   "execution_count": 2,
   "metadata": {},
   "outputs": [],
   "source": [
    "from sys import argv\n",
    "#import setenv\n",
    "import glob\n",
    "import socket\n",
    "import re\n",
    "import os\n",
    "import logging\n",
    "from io import StringIO\n",
    "import io\n",
    "import string\n",
    "import sys\n",
    "import smtplib\n",
    "import traceback\n",
    "#from GetEnvironment import *"
   ]
  },
  {
   "cell_type": "code",
   "execution_count": 3,
   "metadata": {
    "collapsed": true
   },
   "outputs": [],
   "source": [
    "import sys"
   ]
  },
  {
   "cell_type": "code",
   "execution_count": 4,
   "metadata": {},
   "outputs": [
    {
     "data": {
      "text/plain": [
       "['',\n",
       " '/home/subir/anaconda3/lib/python36.zip',\n",
       " '/home/subir/anaconda3/lib/python3.6',\n",
       " '/home/subir/anaconda3/lib/python3.6/lib-dynload',\n",
       " '/home/subir/anaconda3/lib/python3.6/site-packages',\n",
       " '/home/subir/anaconda3/lib/python3.6/site-packages/IPython/extensions',\n",
       " '/home/subir/.ipython']"
      ]
     },
     "execution_count": 4,
     "metadata": {},
     "output_type": "execute_result"
    }
   ],
   "source": [
    "sys.path"
   ]
  },
  {
   "cell_type": "code",
   "execution_count": 5,
   "metadata": {},
   "outputs": [
    {
     "ename": "NameError",
     "evalue": "name 'env_details' is not defined",
     "output_type": "error",
     "traceback": [
      "\u001b[0;31m---------------------------------------------------------------------------\u001b[0m",
      "\u001b[0;31mNameError\u001b[0m                                 Traceback (most recent call last)",
      "\u001b[0;32m<ipython-input-5-3e8cf17f54e0>\u001b[0m in \u001b[0;36m<module>\u001b[0;34m()\u001b[0m\n\u001b[0;32m----> 1\u001b[0;31m \u001b[0menv_details\u001b[0m\u001b[0;34m(\u001b[0m\u001b[0;34m)\u001b[0m\u001b[0;34m\u001b[0m\u001b[0m\n\u001b[0m",
      "\u001b[0;31mNameError\u001b[0m: name 'env_details' is not defined"
     ]
    }
   ],
   "source": [
    "env_details()"
   ]
  },
  {
   "cell_type": "code",
   "execution_count": 6,
   "metadata": {},
   "outputs": [
    {
     "ename": "NameError",
     "evalue": "name 'env_details' is not defined",
     "output_type": "error",
     "traceback": [
      "\u001b[0;31m---------------------------------------------------------------------------\u001b[0m",
      "\u001b[0;31mNameError\u001b[0m                                 Traceback (most recent call last)",
      "\u001b[0;32m<ipython-input-6-89096a051fea>\u001b[0m in \u001b[0;36m<module>\u001b[0;34m()\u001b[0m\n\u001b[0;32m----> 1\u001b[0;31m \u001b[0menv_environment\u001b[0m\u001b[0;34m=\u001b[0m\u001b[0menv_details\u001b[0m\u001b[0;34m(\u001b[0m\u001b[0;34m)\u001b[0m\u001b[0;34m\u001b[0m\u001b[0m\n\u001b[0m\u001b[1;32m      2\u001b[0m \u001b[0;32mif\u001b[0m \u001b[0menv_environment\u001b[0m\u001b[0;34m==\u001b[0m\u001b[0;34m\"DEV\"\u001b[0m \u001b[0;34m:\u001b[0m\u001b[0;34m\u001b[0m\u001b[0m\n\u001b[1;32m      3\u001b[0m     \u001b[0me_mail\u001b[0m\u001b[0;34m=\u001b[0m\u001b[0;34m\"subioracle@gmail.com\"\u001b[0m\u001b[0;34m\u001b[0m\u001b[0m\n\u001b[1;32m      4\u001b[0m     \u001b[0mprint\u001b[0m\u001b[0;34m(\u001b[0m\u001b[0me_mail\u001b[0m\u001b[0;34m)\u001b[0m\u001b[0;34m\u001b[0m\u001b[0m\n\u001b[1;32m      5\u001b[0m \u001b[0;32melse\u001b[0m\u001b[0;34m:\u001b[0m\u001b[0;34m\u001b[0m\u001b[0m\n",
      "\u001b[0;31mNameError\u001b[0m: name 'env_details' is not defined"
     ]
    }
   ],
   "source": [
    "env_environment=env_details()\n",
    "if env_environment==\"DEV\" :\n",
    "    e_mail=\"subioracle@gmail.com\"\n",
    "    print(e_mail)\n",
    "else:\n",
    "    if env_environment==\"Prod\" :\n",
    "        e_email=\"subioracle@gmail.com\"\n",
    "        print(e_mail)\n",
    "    else:\n",
    "        print (\"Invalid Environment Details\")\n",
    "        message = \"No Environment found\"\n",
    "        logging.error (message)\n",
    "        sys.stdout.flush()\n",
    "        sys.exit(1)\n",
    "def send_email(from_addr=\"THE ODSAAS DEPLOYMENT PROCESS\",to_addr =[e_mail], subject= 'A', body_text=\"text\"):\n",
    "    #string = StringIO.StringIO()\n",
    "    BODY= string.join((\"From: %s\" \n",
    "                       % from_addr,\n",
    "                       \"To: %s\"\n",
    "                       % to_addr,\n",
    "                       \"Subject: %s\" \n",
    "                       % subject, \"\", \n",
    "                       body_text),\"r\\n\")\n",
    "    server=smtplib.SMTP(smtp.gmail.com )\n",
    "    server.send_email(from_addr, [to_addr], BODY)\n",
    "    server.quit()\n",
    "    sys.exit()\n",
    "if __name__ == \"__main__\" :\n",
    "    send_email(subject='runname', body_text=\"There was a probtem running this process. \")"
   ]
  },
  {
   "cell_type": "code",
   "execution_count": null,
   "metadata": {
    "collapsed": true
   },
   "outputs": [],
   "source": [
    "help string"
   ]
  },
  {
   "cell_type": "code",
   "execution_count": null,
   "metadata": {
    "collapsed": true
   },
   "outputs": [],
   "source": []
  }
 ],
 "metadata": {
  "kernelspec": {
   "display_name": "Python 3",
   "language": "python",
   "name": "python3"
  },
  "language_info": {
   "codemirror_mode": {
    "name": "ipython",
    "version": 3
   },
   "file_extension": ".py",
   "mimetype": "text/x-python",
   "name": "python",
   "nbconvert_exporter": "python",
   "pygments_lexer": "ipython3",
   "version": "3.7.3"
  }
 },
 "nbformat": 4,
 "nbformat_minor": 2
}
