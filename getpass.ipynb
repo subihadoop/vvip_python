{
 "cells": [
  {
   "cell_type": "code",
   "execution_count": null,
   "metadata": {},
   "outputs": [],
   "source": [
    "usage()9\n",
    "print \"\\nUsage: getEtlLoadPwd \\n\"g\n",
    "print \" \\n\\n \"g\n",
    "exit 29\n",
    "}9\n",
    "while getopts h-name\n",
    "do\n",
    "**case $name in\n",
    "....h). usage;;\n",
    "....?). usage;;9\n",
    "esac\n",
    "done\n",
    "shift $(($OPTIND - 1))9\n",
    "export CLI_SDK=/opt/CARKaim/sdk/clipasswordsdk\n",
    "export LIBPATH=$LIBPATH:/opt/freeware/lib\n",
    "techo $LIBPATH\n",
    "app_id%3pm_etl_load_syncosI\n",
    "gry3\"Safe%3DPM-IM-INFOMGMT-EDW-T-S;USsername%3DPM_EDW_ETL_LOAD; Address-TKPHDBI\"\n",
    "password_string=`$CLI_SDK GetPassword -p AppDescs. AppID-$app_id -p Query=\"$qry\" -o Password,PassProps. Address, Pa\n",
    "dadle Gent Daccuord\n",
    "n AnnDescs. AppID=pm etl load syncos -p Query= \"Sat\n",
    "#echo $LIBPATH\n",
    "app_id-pm_etl_load_syncos\n",
    "gry3\"Safe%3DPH-IM-INFOMGMT -EDW-T-S;Username%-PM_EDW_ETL_LOAD; Address-TKPMDBI\"\n",
    "password_string=`$CLI_SDK-GetPassword -p AppDescs. AppID=$app_id -p Query-\"$qry\" -o Password,PassProps. Address,PassProps. UserNam\n",
    "#password_string=`/opt/CARKaim/sdk/clipasswordsdk GetPassword -p AppDescs. APPID=pm_et1_load_syncos -p-Query-'Safe-PM-IM-INFOMGM\n",
    "sername-PM_EDW_ETL_LOAD;Address-TKPHDBI'-o Password,PassProps.Address,PassProps.UserName, PasswordChange\n",
    "if [ $?--ne 0 19\n",
    "then\n",
    "printf \"Error runninggetEtlPwd \"\n",
    "exit 99\n",
    "fis\n",
    "Dword=' echo $password string -awk -F \",\" '{print $1}*\n",
    "chip='echo $password_string | awk -F \",\"-'{print $4}\n",
    "If-[ $chip != false ]9\n",
    "cheng\n",
    "printf \"Error change in progress getEtlLoadPwd \"\n",
    "exit 89\n",
    "else\n",
    "#echo \"here\\n\"\n",
    "echo $pword"
   ]
  }
 ],
 "metadata": {
  "kernelspec": {
   "display_name": "Python 3",
   "language": "python",
   "name": "python3"
  },
  "language_info": {
   "codemirror_mode": {
    "name": "ipython",
    "version": 3
   },
   "file_extension": ".py",
   "mimetype": "text/x-python",
   "name": "python",
   "nbconvert_exporter": "python",
   "pygments_lexer": "ipython3",
   "version": "3.7.3"
  }
 },
 "nbformat": 4,
 "nbformat_minor": 2
}
