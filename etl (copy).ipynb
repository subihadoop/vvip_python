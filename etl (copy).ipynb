{
 "cells": [
  {
   "cell_type": "code",
   "execution_count": null,
   "metadata": {},
   "outputs": [],
   "source": [
    "# python modules\n",
    "import mysql.connector\n",
    "import pyodbc\n",
    "import fdb# variables\n",
    "from variables import datawarehouse_name\n",
    "def etl(query, source_cnx, target_cnx):\n",
    "  # extract data from source db\n",
    "  source_cursor = source_cnx.cursor()\n",
    "  source_cursor.execute(query.extract_query)\n",
    "  data = source_cursor.fetchall()\n",
    "  source_cursor.close()\n",
    "\n",
    "  # load data into warehouse db\n",
    "  if data:\n",
    "    target_cursor = target_cnx.cursor()\n",
    "    target_cursor.execute(\"USE {}\".format(datawarehouse_name))\n",
    "    target_cursor.executemany(query.load_query, data)\n",
    "    print('data loaded to warehouse db')\n",
    "    target_cursor.close()\n",
    "  else:\n",
    "    print('data is empty')\n",
    "\n",
    "def etl_process(queries, target_cnx, source_db_config, db_platform):\n",
    "  # establish source db connection\n",
    "  if db_platform == 'mysql':\n",
    "    source_cnx = mysql.connector.connect(**source_db_config)\n",
    "  elif db_platform == 'sqlserver':\n",
    "    source_cnx = pyodbc.connect(**source_db_config)\n",
    "  elif db_platform == 'firebird':\n",
    "    source_cnx = fdb.connect(**source_db_config)\n",
    "  else:\n",
    "    return 'Error! unrecognised db platform'\n",
    "  \n",
    "  # loop through sql queries\n",
    "  for query in queries:\n",
    "    etl(query, source_cnx, target_cnx)\n",
    "    \n",
    "  # close the source db connection\n",
    "  source_cnx.close()"
   ]
  }
 ],
 "metadata": {
  "kernelspec": {
   "display_name": "Python 3",
   "language": "python",
   "name": "python3"
  },
  "language_info": {
   "codemirror_mode": {
    "name": "ipython",
    "version": 3
   },
   "file_extension": ".py",
   "mimetype": "text/x-python",
   "name": "python",
   "nbconvert_exporter": "python",
   "pygments_lexer": "ipython3",
   "version": "3.7.3"
  }
 },
 "nbformat": 4,
 "nbformat_minor": 2
}
